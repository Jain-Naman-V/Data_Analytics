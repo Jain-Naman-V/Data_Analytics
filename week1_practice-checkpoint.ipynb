{
 "cells": [
  {
   "cell_type": "code",
   "execution_count": 1,
   "id": "c02ff6f5",
   "metadata": {},
   "outputs": [],
   "source": [
    "import pandas as pd\n",
    "import numpy as np\n",
    "import matplotlib.pyplot as plt\n"
   ]
  },
  {
   "cell_type": "code",
   "execution_count": 2,
   "id": "98812722",
   "metadata": {},
   "outputs": [],
   "source": [
    "df=pd.read_csv('C:/Users/pubgs/Downloads/gapminder-FiveYearData.csv')"
   ]
  },
  {
   "cell_type": "code",
   "execution_count": 3,
   "id": "ba084dd9",
   "metadata": {},
   "outputs": [
    {
     "data": {
      "text/html": [
       "<div>\n",
       "<style scoped>\n",
       "    .dataframe tbody tr th:only-of-type {\n",
       "        vertical-align: middle;\n",
       "    }\n",
       "\n",
       "    .dataframe tbody tr th {\n",
       "        vertical-align: top;\n",
       "    }\n",
       "\n",
       "    .dataframe thead th {\n",
       "        text-align: right;\n",
       "    }\n",
       "</style>\n",
       "<table border=\"1\" class=\"dataframe\">\n",
       "  <thead>\n",
       "    <tr style=\"text-align: right;\">\n",
       "      <th></th>\n",
       "      <th>country</th>\n",
       "      <th>year</th>\n",
       "      <th>pop</th>\n",
       "      <th>continent</th>\n",
       "      <th>lifeExp</th>\n",
       "      <th>gdpPercap</th>\n",
       "    </tr>\n",
       "  </thead>\n",
       "  <tbody>\n",
       "    <tr>\n",
       "      <th>0</th>\n",
       "      <td>Afghanistan</td>\n",
       "      <td>1952</td>\n",
       "      <td>8425333.0</td>\n",
       "      <td>Asia</td>\n",
       "      <td>28.801</td>\n",
       "      <td>779.445314</td>\n",
       "    </tr>\n",
       "    <tr>\n",
       "      <th>1</th>\n",
       "      <td>Afghanistan</td>\n",
       "      <td>1957</td>\n",
       "      <td>9240934.0</td>\n",
       "      <td>Asia</td>\n",
       "      <td>30.332</td>\n",
       "      <td>820.853030</td>\n",
       "    </tr>\n",
       "    <tr>\n",
       "      <th>2</th>\n",
       "      <td>Afghanistan</td>\n",
       "      <td>1962</td>\n",
       "      <td>10267083.0</td>\n",
       "      <td>Asia</td>\n",
       "      <td>31.997</td>\n",
       "      <td>853.100710</td>\n",
       "    </tr>\n",
       "    <tr>\n",
       "      <th>3</th>\n",
       "      <td>Afghanistan</td>\n",
       "      <td>1967</td>\n",
       "      <td>11537966.0</td>\n",
       "      <td>Asia</td>\n",
       "      <td>34.020</td>\n",
       "      <td>836.197138</td>\n",
       "    </tr>\n",
       "    <tr>\n",
       "      <th>4</th>\n",
       "      <td>Afghanistan</td>\n",
       "      <td>1972</td>\n",
       "      <td>13079460.0</td>\n",
       "      <td>Asia</td>\n",
       "      <td>36.088</td>\n",
       "      <td>739.981106</td>\n",
       "    </tr>\n",
       "    <tr>\n",
       "      <th>...</th>\n",
       "      <td>...</td>\n",
       "      <td>...</td>\n",
       "      <td>...</td>\n",
       "      <td>...</td>\n",
       "      <td>...</td>\n",
       "      <td>...</td>\n",
       "    </tr>\n",
       "    <tr>\n",
       "      <th>1699</th>\n",
       "      <td>Zimbabwe</td>\n",
       "      <td>1987</td>\n",
       "      <td>9216418.0</td>\n",
       "      <td>Africa</td>\n",
       "      <td>62.351</td>\n",
       "      <td>706.157306</td>\n",
       "    </tr>\n",
       "    <tr>\n",
       "      <th>1700</th>\n",
       "      <td>Zimbabwe</td>\n",
       "      <td>1992</td>\n",
       "      <td>10704340.0</td>\n",
       "      <td>Africa</td>\n",
       "      <td>60.377</td>\n",
       "      <td>693.420786</td>\n",
       "    </tr>\n",
       "    <tr>\n",
       "      <th>1701</th>\n",
       "      <td>Zimbabwe</td>\n",
       "      <td>1997</td>\n",
       "      <td>11404948.0</td>\n",
       "      <td>Africa</td>\n",
       "      <td>46.809</td>\n",
       "      <td>792.449960</td>\n",
       "    </tr>\n",
       "    <tr>\n",
       "      <th>1702</th>\n",
       "      <td>Zimbabwe</td>\n",
       "      <td>2002</td>\n",
       "      <td>11926563.0</td>\n",
       "      <td>Africa</td>\n",
       "      <td>39.989</td>\n",
       "      <td>672.038623</td>\n",
       "    </tr>\n",
       "    <tr>\n",
       "      <th>1703</th>\n",
       "      <td>Zimbabwe</td>\n",
       "      <td>2007</td>\n",
       "      <td>12311143.0</td>\n",
       "      <td>Africa</td>\n",
       "      <td>43.487</td>\n",
       "      <td>469.709298</td>\n",
       "    </tr>\n",
       "  </tbody>\n",
       "</table>\n",
       "<p>1704 rows × 6 columns</p>\n",
       "</div>"
      ],
      "text/plain": [
       "          country  year         pop continent  lifeExp   gdpPercap\n",
       "0     Afghanistan  1952   8425333.0      Asia   28.801  779.445314\n",
       "1     Afghanistan  1957   9240934.0      Asia   30.332  820.853030\n",
       "2     Afghanistan  1962  10267083.0      Asia   31.997  853.100710\n",
       "3     Afghanistan  1967  11537966.0      Asia   34.020  836.197138\n",
       "4     Afghanistan  1972  13079460.0      Asia   36.088  739.981106\n",
       "...           ...   ...         ...       ...      ...         ...\n",
       "1699     Zimbabwe  1987   9216418.0    Africa   62.351  706.157306\n",
       "1700     Zimbabwe  1992  10704340.0    Africa   60.377  693.420786\n",
       "1701     Zimbabwe  1997  11404948.0    Africa   46.809  792.449960\n",
       "1702     Zimbabwe  2002  11926563.0    Africa   39.989  672.038623\n",
       "1703     Zimbabwe  2007  12311143.0    Africa   43.487  469.709298\n",
       "\n",
       "[1704 rows x 6 columns]"
      ]
     },
     "execution_count": 3,
     "metadata": {},
     "output_type": "execute_result"
    }
   ],
   "source": [
    "df"
   ]
  },
  {
   "cell_type": "code",
   "execution_count": 4,
   "id": "30a6bcc4",
   "metadata": {},
   "outputs": [
    {
     "data": {
      "text/html": [
       "<div>\n",
       "<style scoped>\n",
       "    .dataframe tbody tr th:only-of-type {\n",
       "        vertical-align: middle;\n",
       "    }\n",
       "\n",
       "    .dataframe tbody tr th {\n",
       "        vertical-align: top;\n",
       "    }\n",
       "\n",
       "    .dataframe thead th {\n",
       "        text-align: right;\n",
       "    }\n",
       "</style>\n",
       "<table border=\"1\" class=\"dataframe\">\n",
       "  <thead>\n",
       "    <tr style=\"text-align: right;\">\n",
       "      <th></th>\n",
       "      <th>country</th>\n",
       "      <th>year</th>\n",
       "      <th>pop</th>\n",
       "      <th>continent</th>\n",
       "      <th>lifeExp</th>\n",
       "      <th>gdpPercap</th>\n",
       "    </tr>\n",
       "  </thead>\n",
       "  <tbody>\n",
       "    <tr>\n",
       "      <th>0</th>\n",
       "      <td>Afghanistan</td>\n",
       "      <td>1952</td>\n",
       "      <td>8425333.0</td>\n",
       "      <td>Asia</td>\n",
       "      <td>28.801</td>\n",
       "      <td>779.445314</td>\n",
       "    </tr>\n",
       "    <tr>\n",
       "      <th>1</th>\n",
       "      <td>Afghanistan</td>\n",
       "      <td>1957</td>\n",
       "      <td>9240934.0</td>\n",
       "      <td>Asia</td>\n",
       "      <td>30.332</td>\n",
       "      <td>820.853030</td>\n",
       "    </tr>\n",
       "    <tr>\n",
       "      <th>2</th>\n",
       "      <td>Afghanistan</td>\n",
       "      <td>1962</td>\n",
       "      <td>10267083.0</td>\n",
       "      <td>Asia</td>\n",
       "      <td>31.997</td>\n",
       "      <td>853.100710</td>\n",
       "    </tr>\n",
       "    <tr>\n",
       "      <th>3</th>\n",
       "      <td>Afghanistan</td>\n",
       "      <td>1967</td>\n",
       "      <td>11537966.0</td>\n",
       "      <td>Asia</td>\n",
       "      <td>34.020</td>\n",
       "      <td>836.197138</td>\n",
       "    </tr>\n",
       "    <tr>\n",
       "      <th>4</th>\n",
       "      <td>Afghanistan</td>\n",
       "      <td>1972</td>\n",
       "      <td>13079460.0</td>\n",
       "      <td>Asia</td>\n",
       "      <td>36.088</td>\n",
       "      <td>739.981106</td>\n",
       "    </tr>\n",
       "  </tbody>\n",
       "</table>\n",
       "</div>"
      ],
      "text/plain": [
       "       country  year         pop continent  lifeExp   gdpPercap\n",
       "0  Afghanistan  1952   8425333.0      Asia   28.801  779.445314\n",
       "1  Afghanistan  1957   9240934.0      Asia   30.332  820.853030\n",
       "2  Afghanistan  1962  10267083.0      Asia   31.997  853.100710\n",
       "3  Afghanistan  1967  11537966.0      Asia   34.020  836.197138\n",
       "4  Afghanistan  1972  13079460.0      Asia   36.088  739.981106"
      ]
     },
     "execution_count": 4,
     "metadata": {},
     "output_type": "execute_result"
    }
   ],
   "source": [
    "df.head()"
   ]
  },
  {
   "cell_type": "code",
   "execution_count": 7,
   "id": "87b7249e",
   "metadata": {},
   "outputs": [
    {
     "name": "stdout",
     "output_type": "stream",
     "text": [
      "(1704, 6)\n"
     ]
    }
   ],
   "source": [
    "print(df.shape)"
   ]
  },
  {
   "cell_type": "code",
   "execution_count": 9,
   "id": "d087798f",
   "metadata": {},
   "outputs": [
    {
     "name": "stdout",
     "output_type": "stream",
     "text": [
      "Index(['country', 'year', 'pop', 'continent', 'lifeExp', 'gdpPercap'], dtype='object')\n"
     ]
    }
   ],
   "source": [
    "print(df.columns)"
   ]
  },
  {
   "cell_type": "code",
   "execution_count": 12,
   "id": "784d64c2",
   "metadata": {},
   "outputs": [
    {
     "name": "stdout",
     "output_type": "stream",
     "text": [
      "country       object\n",
      "year           int64\n",
      "pop          float64\n",
      "continent     object\n",
      "lifeExp      float64\n",
      "gdpPercap    float64\n",
      "dtype: object\n"
     ]
    }
   ],
   "source": [
    "print(df.dtypes)"
   ]
  },
  {
   "cell_type": "code",
   "execution_count": 13,
   "id": "be47bb9a",
   "metadata": {},
   "outputs": [
    {
     "name": "stdout",
     "output_type": "stream",
     "text": [
      "<class 'pandas.core.frame.DataFrame'>\n",
      "RangeIndex: 1704 entries, 0 to 1703\n",
      "Data columns (total 6 columns):\n",
      " #   Column     Non-Null Count  Dtype  \n",
      "---  ------     --------------  -----  \n",
      " 0   country    1704 non-null   object \n",
      " 1   year       1704 non-null   int64  \n",
      " 2   pop        1704 non-null   float64\n",
      " 3   continent  1704 non-null   object \n",
      " 4   lifeExp    1704 non-null   float64\n",
      " 5   gdpPercap  1704 non-null   float64\n",
      "dtypes: float64(3), int64(1), object(2)\n",
      "memory usage: 80.0+ KB\n",
      "None\n"
     ]
    }
   ],
   "source": [
    "print(df.info())"
   ]
  },
  {
   "cell_type": "code",
   "execution_count": 15,
   "id": "9cbe2343",
   "metadata": {},
   "outputs": [],
   "source": [
    "#Looking for particular columns\n",
    "country_df=df['country']"
   ]
  },
  {
   "cell_type": "raw",
   "id": "5ac23ae7",
   "metadata": {},
   "source": [
    "country_df.head"
   ]
  },
  {
   "cell_type": "code",
   "execution_count": 17,
   "id": "518b95b8",
   "metadata": {},
   "outputs": [
    {
     "data": {
      "text/plain": [
       "0    Afghanistan\n",
       "1    Afghanistan\n",
       "2    Afghanistan\n",
       "3    Afghanistan\n",
       "4    Afghanistan\n",
       "Name: country, dtype: object"
      ]
     },
     "execution_count": 17,
     "metadata": {},
     "output_type": "execute_result"
    }
   ],
   "source": [
    "country_df.head()"
   ]
  },
  {
   "cell_type": "code",
   "execution_count": 18,
   "id": "c78d8f3a",
   "metadata": {},
   "outputs": [
    {
     "data": {
      "text/plain": [
       "1699    Zimbabwe\n",
       "1700    Zimbabwe\n",
       "1701    Zimbabwe\n",
       "1702    Zimbabwe\n",
       "1703    Zimbabwe\n",
       "Name: country, dtype: object"
      ]
     },
     "execution_count": 18,
     "metadata": {},
     "output_type": "execute_result"
    }
   ],
   "source": [
    "#Tail Function\n",
    "country_df.tail()"
   ]
  },
  {
   "cell_type": "code",
   "execution_count": 20,
   "id": "0607229b",
   "metadata": {},
   "outputs": [
    {
     "name": "stdout",
     "output_type": "stream",
     "text": [
      "       country  year         pop continent  lifeExp   gdpPercap\n",
      "1703  Zimbabwe  2007  12311143.0    Africa   43.487  469.709298\n"
     ]
    }
   ],
   "source": [
    "#For accessing last row \n",
    "print(df.tail(1))"
   ]
  },
  {
   "cell_type": "code",
   "execution_count": 21,
   "id": "6e4f52c6",
   "metadata": {},
   "outputs": [
    {
     "name": "stdout",
     "output_type": "stream",
     "text": [
      "       country  year         pop continent  lifeExp   gdpPercap\n",
      "1702  Zimbabwe  2002  11926563.0    Africa   39.989  672.038623\n",
      "1703  Zimbabwe  2007  12311143.0    Africa   43.487  469.709298\n"
     ]
    }
   ],
   "source": [
    "#For accessing last two  row \n",
    "print(df.tail(2))"
   ]
  },
  {
   "cell_type": "code",
   "execution_count": 23,
   "id": "8175efa2",
   "metadata": {},
   "outputs": [
    {
     "name": "stdout",
     "output_type": "stream",
     "text": [
      "       country continent  year\n",
      "0  Afghanistan      Asia  1952\n",
      "1  Afghanistan      Asia  1957\n",
      "2  Afghanistan      Asia  1962\n",
      "3  Afghanistan      Asia  1967\n",
      "4  Afghanistan      Asia  1972\n"
     ]
    }
   ],
   "source": [
    "# Suppose we need particular column then \n",
    "sub=df[['country','continent','year']]\n",
    "print(sub.head())"
   ]
  },
  {
   "cell_type": "code",
   "execution_count": 24,
   "id": "a552b9b0",
   "metadata": {},
   "outputs": [
    {
     "name": "stdout",
     "output_type": "stream",
     "text": [
      "country      Afghanistan\n",
      "year                1957\n",
      "pop            9240934.0\n",
      "continent           Asia\n",
      "lifeExp           30.332\n",
      "gdpPercap      820.85303\n",
      "Name: 1, dtype: object\n",
      "country      Bangladesh\n",
      "year               1972\n",
      "pop          70759295.0\n",
      "continent          Asia\n",
      "lifeExp          45.252\n",
      "gdpPercap    630.233627\n",
      "Name: 100, dtype: object\n",
      "country        Zimbabwe\n",
      "year               2007\n",
      "pop          12311143.0\n",
      "continent        Africa\n",
      "lifeExp          43.487\n",
      "gdpPercap    469.709298\n",
      "Name: 1703, dtype: object\n"
     ]
    }
   ],
   "source": [
    "#Access particular row\n",
    "print(df.iloc[1]) #for accessing first row\n",
    "print(df.iloc[100])#for accessinng second row\n",
    "print(df.iloc[-1])#for accessing last row"
   ]
  },
  {
   "cell_type": "code",
   "execution_count": 26,
   "id": "ed858405",
   "metadata": {},
   "outputs": [
    {
     "name": "stdout",
     "output_type": "stream",
     "text": [
      "          pop  lifeExp   gdpPercap\n",
      "0   8425333.0   28.801  779.445314\n",
      "1   9240934.0   30.332  820.853030\n",
      "2  10267083.0   31.997  853.100710\n",
      "3  11537966.0   34.020  836.197138\n",
      "4  13079460.0   36.088  739.981106\n"
     ]
    }
   ],
   "source": [
    "#Subsetting columns using python slicing :\n",
    "#df.loc[:,[columns]]\n",
    "ss=df.loc[:,['pop','lifeExp','gdpPercap']]\n",
    "print(ss.head())"
   ]
  },
  {
   "cell_type": "code",
   "execution_count": 28,
   "id": "8c4f6665",
   "metadata": {},
   "outputs": [
    {
     "name": "stdout",
     "output_type": "stream",
     "text": [
      "          pop  lifeExp   gdpPercap\n",
      "0   8425333.0   28.801  779.445314\n",
      "1   9240934.0   30.332  820.853030\n",
      "2  10267083.0   31.997  853.100710\n",
      "3  11537966.0   34.020  836.197138\n",
      "4  13079460.0   36.088  739.981106\n"
     ]
    }
   ],
   "source": [
    "#while using iloc we use only number\n",
    "ss=df.iloc[:,[2,4,-1]]\n",
    "print(ss.head())"
   ]
  },
  {
   "cell_type": "code",
   "execution_count": 30,
   "id": "0b654fe8",
   "metadata": {},
   "outputs": [
    {
     "name": "stdout",
     "output_type": "stream",
     "text": [
      "[0, 1, 2, 3, 4]\n"
     ]
    }
   ],
   "source": [
    "#create a range integer from 0 to 4\n",
    "srange=list(range(5))\n",
    "print(srange)"
   ]
  },
  {
   "cell_type": "code",
   "execution_count": 31,
   "id": "86311c67",
   "metadata": {},
   "outputs": [
    {
     "name": "stdout",
     "output_type": "stream",
     "text": [
      "country    Bangladesh\n",
      "Name: 100, dtype: object\n"
     ]
    }
   ],
   "source": [
    "#Subsetting row and column\n",
    "#like want to access 100th row ,country name\n",
    "#using loc\n",
    "kk=df.loc[100,['country']]\n",
    "print(kk)"
   ]
  },
  {
   "cell_type": "code",
   "execution_count": 33,
   "id": "ea806629",
   "metadata": {},
   "outputs": [
    {
     "data": {
      "text/plain": [
       "year               1972\n",
       "continent          Asia\n",
       "gdpPercap    630.233627\n",
       "Name: 100, dtype: object"
      ]
     },
     "execution_count": 33,
     "metadata": {},
     "output_type": "execute_result"
    }
   ],
   "source": [
    "#using iloc we cannot use column name we have to give only column particular index number\n",
    "ke=df.iloc[100,[1,3,5]]\n",
    "ke\n"
   ]
  },
  {
   "cell_type": "code",
   "execution_count": 34,
   "id": "1001bb6a",
   "metadata": {},
   "outputs": [
    {
     "data": {
      "text/html": [
       "<div>\n",
       "<style scoped>\n",
       "    .dataframe tbody tr th:only-of-type {\n",
       "        vertical-align: middle;\n",
       "    }\n",
       "\n",
       "    .dataframe tbody tr th {\n",
       "        vertical-align: top;\n",
       "    }\n",
       "\n",
       "    .dataframe thead th {\n",
       "        text-align: right;\n",
       "    }\n",
       "</style>\n",
       "<table border=\"1\" class=\"dataframe\">\n",
       "  <thead>\n",
       "    <tr style=\"text-align: right;\">\n",
       "      <th></th>\n",
       "      <th>year</th>\n",
       "      <th>continent</th>\n",
       "      <th>gdpPercap</th>\n",
       "    </tr>\n",
       "  </thead>\n",
       "  <tbody>\n",
       "    <tr>\n",
       "      <th>0</th>\n",
       "      <td>1952</td>\n",
       "      <td>Asia</td>\n",
       "      <td>779.445314</td>\n",
       "    </tr>\n",
       "    <tr>\n",
       "      <th>99</th>\n",
       "      <td>1967</td>\n",
       "      <td>Asia</td>\n",
       "      <td>721.186086</td>\n",
       "    </tr>\n",
       "    <tr>\n",
       "      <th>999</th>\n",
       "      <td>1967</td>\n",
       "      <td>Asia</td>\n",
       "      <td>1226.041130</td>\n",
       "    </tr>\n",
       "  </tbody>\n",
       "</table>\n",
       "</div>"
      ],
      "text/plain": [
       "     year continent    gdpPercap\n",
       "0    1952      Asia   779.445314\n",
       "99   1967      Asia   721.186086\n",
       "999  1967      Asia  1226.041130"
      ]
     },
     "execution_count": 34,
     "metadata": {},
     "output_type": "execute_result"
    }
   ],
   "source": [
    "#Formultiple row and column\n",
    "kj=df.iloc[[0,99,999],[1,3,5]]\n",
    "kj"
   ]
  },
  {
   "cell_type": "code",
   "execution_count": 35,
   "id": "50fbdf26",
   "metadata": {},
   "outputs": [
    {
     "name": "stdout",
     "output_type": "stream",
     "text": [
      "year\n",
      "1952    49.057620\n",
      "1957    51.507401\n",
      "1962    53.609249\n",
      "1967    55.678290\n",
      "1972    57.647386\n",
      "1977    59.570157\n",
      "1982    61.533197\n",
      "1987    63.212613\n",
      "1992    64.160338\n",
      "1997    65.014676\n",
      "2002    65.694923\n",
      "2007    67.007423\n",
      "Name: lifeExp, dtype: float64\n"
     ]
    }
   ],
   "source": [
    "#Group by row\n",
    "ko=df.groupby('year')['lifeExp'].mean()\n",
    "#here for particular year we find mean of lifeexptenancy \n",
    "print(ko)\n"
   ]
  },
  {
   "cell_type": "code",
   "execution_count": 36,
   "id": "8741d89c",
   "metadata": {},
   "outputs": [
    {
     "name": "stdout",
     "output_type": "stream",
     "text": [
      "continent\n",
      "Africa      48.865330\n",
      "Americas    64.658737\n",
      "Asia        60.064903\n",
      "Europe      71.903686\n",
      "Oceania     74.326208\n",
      "Name: lifeExp, dtype: float64\n"
     ]
    }
   ],
   "source": [
    "#Like we want to groupby lifeexptenancy with resepect to continent\n",
    "kl=df.groupby('continent')['lifeExp'].mean()\n",
    "print(kl)"
   ]
  },
  {
   "cell_type": "code",
   "execution_count": 38,
   "id": "e92dc704",
   "metadata": {},
   "outputs": [
    {
     "name": "stdout",
     "output_type": "stream",
     "text": [
      "country\n",
      "Afghanistan            802.674598\n",
      "Albania               3255.366633\n",
      "Algeria               4426.025973\n",
      "Angola                3607.100529\n",
      "Argentina             8955.553783\n",
      "                         ...     \n",
      "Vietnam               1017.712615\n",
      "West Bank and Gaza    3759.996781\n",
      "Yemen Rep.            1569.274672\n",
      "Zambia                1358.199409\n",
      "Zimbabwe               635.858042\n",
      "Name: gdpPercap, Length: 142, dtype: float64\n"
     ]
    }
   ],
   "source": [
    "#we want to see gdp per cap of country \n",
    "ko=df.groupby('country')['gdpPercap'].mean()\n",
    "print(ko)"
   ]
  },
  {
   "cell_type": "code",
   "execution_count": 40,
   "id": "819689f6",
   "metadata": {},
   "outputs": [
    {
     "name": "stdout",
     "output_type": "stream",
     "text": [
      "65332.91047166666\n"
     ]
    }
   ],
   "source": [
    "#max gdp\n",
    "j=max(ko)\n",
    "print(j)\n"
   ]
  },
  {
   "cell_type": "code",
   "execution_count": 42,
   "id": "416d70b2",
   "metadata": {},
   "outputs": [
    {
     "name": "stdout",
     "output_type": "stream",
     "text": [
      "continent\n",
      "Africa       2193.754578\n",
      "Americas     7136.110356\n",
      "Asia         7902.150428\n",
      "Europe      14469.475533\n",
      "Oceania     18621.609223\n",
      "Name: gdpPercap, dtype: float64\n"
     ]
    }
   ],
   "source": [
    "#gdp per cap according to continent \n",
    "ke=df.groupby('continent')['gdpPercap'].mean()\n",
    "print(ke)\n"
   ]
  },
  {
   "cell_type": "code",
   "execution_count": 43,
   "id": "68546a58",
   "metadata": {},
   "outputs": [
    {
     "name": "stdout",
     "output_type": "stream",
     "text": [
      "                  lifeExp     gdpPercap\n",
      "year continent                         \n",
      "1952 Africa     39.135500   1252.572466\n",
      "     Americas   53.279840   4079.062552\n",
      "     Asia       46.314394   5195.484004\n",
      "     Europe     64.408500   5661.057435\n",
      "     Oceania    69.255000  10298.085650\n",
      "1957 Africa     41.266346   1385.236062\n",
      "     Americas   55.960280   4616.043733\n",
      "     Asia       49.318544   5787.732940\n",
      "     Europe     66.703067   6963.012816\n",
      "     Oceania    70.295000  11598.522455\n",
      "1962 Africa     43.319442   1598.078825\n",
      "     Americas   58.398760   4901.541870\n",
      "     Asia       51.563223   5729.369625\n",
      "     Europe     68.539233   8365.486814\n",
      "     Oceania    71.085000  12696.452430\n",
      "1967 Africa     45.334538   2050.363801\n",
      "     Americas   60.410920   5668.253496\n",
      "     Asia       54.663640   5971.173374\n",
      "     Europe     69.737600  10143.823757\n",
      "     Oceania    71.310000  14495.021790\n",
      "1972 Africa     47.450942   2339.615674\n",
      "     Americas   62.394920   6491.334139\n",
      "     Asia       57.319269   8187.468699\n",
      "     Europe     70.775033  12479.575246\n",
      "     Oceania    71.910000  16417.333380\n",
      "1977 Africa     49.580423   2585.938508\n",
      "     Americas   64.391560   7352.007126\n",
      "     Asia       59.610556   7791.314020\n",
      "     Europe     71.937767  14283.979110\n",
      "     Oceania    72.855000  17283.957605\n",
      "1982 Africa     51.592865   2481.592960\n",
      "     Americas   66.228840   7506.737088\n",
      "     Asia       62.617939   7434.135157\n",
      "     Europe     72.806400  15617.896551\n",
      "     Oceania    74.290000  18554.709840\n",
      "1987 Africa     53.344788   2282.668991\n",
      "     Americas   68.090720   7793.400261\n",
      "     Asia       64.851182   7608.226508\n",
      "     Europe     73.642167  17214.310727\n",
      "     Oceania    75.320000  20448.040160\n",
      "1992 Africa     53.629577   2281.810333\n",
      "     Americas   69.568360   8044.934406\n",
      "     Asia       66.537212   8639.690248\n",
      "     Europe     74.440100  17061.568084\n",
      "     Oceania    76.945000  20894.045885\n",
      "1997 Africa     53.598269   2378.759555\n",
      "     Americas   71.150480   8889.300863\n",
      "     Asia       68.020515   9834.093295\n",
      "     Europe     75.505167  19076.781802\n",
      "     Oceania    78.190000  24024.175170\n",
      "2002 Africa     53.325231   2599.385159\n",
      "     Americas   72.422040   9287.677107\n",
      "     Asia       69.233879  10174.090397\n",
      "     Europe     76.700600  21711.732422\n",
      "     Oceania    79.740000  26938.778040\n",
      "2007 Africa     54.806038   3089.032605\n",
      "     Americas   73.608120  11003.031625\n",
      "     Asia       70.728485  12473.026870\n",
      "     Europe     77.648600  25054.481636\n",
      "     Oceania    80.719500  29810.188275\n"
     ]
    }
   ],
   "source": [
    "#group-by data according to multiplevariable \n",
    "multi_grpby=df.groupby(['year','continent'])[['lifeExp','gdpPercap']].mean()\n",
    "print(multi_grpby)\n"
   ]
  },
  {
   "cell_type": "code",
   "execution_count": 44,
   "id": "28e1720b",
   "metadata": {},
   "outputs": [
    {
     "name": "stdout",
     "output_type": "stream",
     "text": [
      "    year continent    lifeExp     gdpPercap\n",
      "0   1952    Africa  39.135500   1252.572466\n",
      "1   1952  Americas  53.279840   4079.062552\n",
      "2   1952      Asia  46.314394   5195.484004\n",
      "3   1952    Europe  64.408500   5661.057435\n",
      "4   1952   Oceania  69.255000  10298.085650\n",
      "5   1957    Africa  41.266346   1385.236062\n",
      "6   1957  Americas  55.960280   4616.043733\n",
      "7   1957      Asia  49.318544   5787.732940\n",
      "8   1957    Europe  66.703067   6963.012816\n",
      "9   1957   Oceania  70.295000  11598.522455\n",
      "10  1962    Africa  43.319442   1598.078825\n",
      "11  1962  Americas  58.398760   4901.541870\n",
      "12  1962      Asia  51.563223   5729.369625\n",
      "13  1962    Europe  68.539233   8365.486814\n",
      "14  1962   Oceania  71.085000  12696.452430\n"
     ]
    }
   ],
   "source": [
    "#to reset we use flat\n",
    "flat=multi_grpby.reset_index()\n",
    "print(flat.head(15))"
   ]
  },
  {
   "cell_type": "code",
   "execution_count": 45,
   "id": "2054f102",
   "metadata": {},
   "outputs": [
    {
     "name": "stdout",
     "output_type": "stream",
     "text": [
      "continent\n",
      "Africa      52\n",
      "Americas    25\n",
      "Asia        33\n",
      "Europe      30\n",
      "Oceania      2\n",
      "Name: country, dtype: int64\n"
     ]
    }
   ],
   "source": [
    "#Use to get counts ofuniquevalue\n",
    "flll=df.groupby('continent')['country'].nunique()\n",
    "print(flll)"
   ]
  },
  {
   "cell_type": "code",
   "execution_count": 46,
   "id": "ec537547",
   "metadata": {},
   "outputs": [
    {
     "data": {
      "text/plain": [
       "<AxesSubplot:xlabel='continent'>"
      ]
     },
     "execution_count": 46,
     "metadata": {},
     "output_type": "execute_result"
    },
    {
     "data": {
      "image/png": "[encoded data removed]",
      "text/plain": [
       "<Figure size 432x288 with 1 Axes>"
      ]
     },
     "metadata": {
      "needs_background": "light"
     },
     "output_type": "display_data"
    }
   ],
   "source": [
    "ke.plot()"
   ]
  },
  {
   "cell_type": "code",
   "execution_count": 47,
   "id": "7846306b",
   "metadata": {},
   "outputs": [
    {
     "data": {
      "text/plain": [
       "<AxesSubplot:xlabel='year,continent'>"
      ]
     },
     "execution_count": 47,
     "metadata": {},
     "output_type": "execute_result"
    },
    {
     "data": {
      "image/png": "[encoded data removed]",
      "text/plain": [
       "<Figure size 432x288 with 1 Axes>"
      ]
     },
     "metadata": {
      "needs_background": "light"
     },
     "output_type": "display_data"
    }
   ],
   "source": [
    "multi_grpby.plot()\n"
   ]
  },
  {
   "cell_type": "code",
   "execution_count": 50,
   "id": "1c935be5",
   "metadata": {},
   "outputs": [],
   "source": [
    "tb=pd.read_excel('C:/Users/pubgs/Downloads/Data Analytics/IBM-313 Marks.xlsx')"
   ]
  },
  {
   "cell_type": "code",
   "execution_count": 51,
   "id": "5aad8948",
   "metadata": {},
   "outputs": [
    {
     "data": {
      "text/html": [
       "<div>\n",
       "<style scoped>\n",
       "    .dataframe tbody tr th:only-of-type {\n",
       "        vertical-align: middle;\n",
       "    }\n",
       "\n",
       "    .dataframe tbody tr th {\n",
       "        vertical-align: top;\n",
       "    }\n",
       "\n",
       "    .dataframe thead th {\n",
       "        text-align: right;\n",
       "    }\n",
       "</style>\n",
       "<table border=\"1\" class=\"dataframe\">\n",
       "  <thead>\n",
       "    <tr style=\"text-align: right;\">\n",
       "      <th></th>\n",
       "      <th>S.No.</th>\n",
       "      <th>MTE (25)</th>\n",
       "      <th>Mini Project (25)</th>\n",
       "      <th>Total (50)</th>\n",
       "      <th>ETE (50)</th>\n",
       "      <th>Total</th>\n",
       "    </tr>\n",
       "  </thead>\n",
       "  <tbody>\n",
       "    <tr>\n",
       "      <th>0</th>\n",
       "      <td>1</td>\n",
       "      <td>5.00</td>\n",
       "      <td>20</td>\n",
       "      <td>25.00</td>\n",
       "      <td>12.0</td>\n",
       "      <td>37.00</td>\n",
       "    </tr>\n",
       "    <tr>\n",
       "      <th>1</th>\n",
       "      <td>2</td>\n",
       "      <td>11.05</td>\n",
       "      <td>20</td>\n",
       "      <td>31.05</td>\n",
       "      <td>26.0</td>\n",
       "      <td>57.05</td>\n",
       "    </tr>\n",
       "    <tr>\n",
       "      <th>2</th>\n",
       "      <td>3</td>\n",
       "      <td>8.10</td>\n",
       "      <td>20</td>\n",
       "      <td>28.10</td>\n",
       "      <td>14.0</td>\n",
       "      <td>42.10</td>\n",
       "    </tr>\n",
       "    <tr>\n",
       "      <th>3</th>\n",
       "      <td>4</td>\n",
       "      <td>6.00</td>\n",
       "      <td>10</td>\n",
       "      <td>16.00</td>\n",
       "      <td>13.0</td>\n",
       "      <td>29.00</td>\n",
       "    </tr>\n",
       "    <tr>\n",
       "      <th>4</th>\n",
       "      <td>5</td>\n",
       "      <td>11.35</td>\n",
       "      <td>20</td>\n",
       "      <td>31.35</td>\n",
       "      <td>17.0</td>\n",
       "      <td>48.35</td>\n",
       "    </tr>\n",
       "  </tbody>\n",
       "</table>\n",
       "</div>"
      ],
      "text/plain": [
       "   S.No.  MTE (25)  Mini Project (25)  Total (50)  ETE (50)  Total\n",
       "0      1      5.00                 20       25.00      12.0  37.00\n",
       "1      2     11.05                 20       31.05      26.0  57.05\n",
       "2      3      8.10                 20       28.10      14.0  42.10\n",
       "3      4      6.00                 10       16.00      13.0  29.00\n",
       "4      5     11.35                 20       31.35      17.0  48.35"
      ]
     },
     "execution_count": 51,
     "metadata": {},
     "output_type": "execute_result"
    }
   ],
   "source": [
    "tb.head()"
   ]
  },
  {
   "cell_type": "code",
   "execution_count": 52,
   "id": "edd2c0a3",
   "metadata": {},
   "outputs": [
    {
     "data": {
      "text/plain": [
       "(79, 6)"
      ]
     },
     "execution_count": 52,
     "metadata": {},
     "output_type": "execute_result"
    }
   ],
   "source": [
    "tb.shape"
   ]
  },
  {
   "cell_type": "code",
   "execution_count": 53,
   "id": "abba6230",
   "metadata": {},
   "outputs": [
    {
     "data": {
      "text/plain": [
       "S.No.                79\n",
       "MTE (25)             65\n",
       "Mini Project (25)     6\n",
       "Total (50)           65\n",
       "ETE (50)             31\n",
       "Total                72\n",
       "dtype: int64"
      ]
     },
     "execution_count": 53,
     "metadata": {},
     "output_type": "execute_result"
    }
   ],
   "source": [
    "tb.nunique()"
   ]
  },
  {
   "cell_type": "code",
   "execution_count": 55,
   "id": "72164df8",
   "metadata": {},
   "outputs": [
    {
     "data": {
      "text/plain": [
       "46.90632911392405"
      ]
     },
     "execution_count": 55,
     "metadata": {},
     "output_type": "execute_result"
    }
   ],
   "source": [
    "#Finding Mean of Total\n",
    "x=tb['Total']\n",
    "x\n",
    "np.mean(x)\n"
   ]
  },
  {
   "cell_type": "code",
   "execution_count": 56,
   "id": "9857b635",
   "metadata": {},
   "outputs": [
    {
     "data": {
      "text/plain": [
       "45.0"
      ]
     },
     "execution_count": 56,
     "metadata": {},
     "output_type": "execute_result"
    }
   ],
   "source": [
    "#Median \n",
    "np.median(x)"
   ]
  },
  {
   "cell_type": "code",
   "execution_count": 59,
   "id": "20a3bf79",
   "metadata": {},
   "outputs": [
    {
     "data": {
      "text/plain": [
       "ModeResult(mode=array([0.]), count=array([2]))"
      ]
     },
     "execution_count": 59,
     "metadata": {},
     "output_type": "execute_result"
    }
   ],
   "source": [
    "#For mode we have to mode\n",
    "import scipy \n",
    "from scipy import stats\n",
    "stats.mode(x)\n"
   ]
  },
  {
   "cell_type": "code",
   "execution_count": 60,
   "id": "b9656331",
   "metadata": {},
   "outputs": [
    {
     "data": {
      "text/plain": [
       "45.0"
      ]
     },
     "execution_count": 60,
     "metadata": {},
     "output_type": "execute_result"
    }
   ],
   "source": [
    "np.percentile(x,50) #50 th percentilerepresent median obviously\n"
   ]
  },
  {
   "cell_type": "code",
   "execution_count": 61,
   "id": "e6fe9468",
   "metadata": {},
   "outputs": [
    {
     "data": {
      "text/plain": [
       "69.68"
      ]
     },
     "execution_count": 61,
     "metadata": {},
     "output_type": "execute_result"
    }
   ],
   "source": [
    "#Suppose we have to find value for 90 th percentile in total\\\n",
    "np.percentile(x,90)"
   ]
  },
  {
   "cell_type": "code",
   "execution_count": 62,
   "id": "ed301edc",
   "metadata": {},
   "outputs": [
    {
     "name": "stdout",
     "output_type": "stream",
     "text": [
      "10\n"
     ]
    }
   ],
   "source": [
    "#Functions in python\n",
    "def add(a,b):\n",
    "    c=a+b\n",
    "    print(c)\n",
    "add(6,4)    "
   ]
  },
  {
   "cell_type": "code",
   "execution_count": 68,
   "id": "e7c2bfdd",
   "metadata": {},
   "outputs": [
    {
     "name": "stdout",
     "output_type": "stream",
     "text": [
      "Hello Good Morning\n"
     ]
    }
   ],
   "source": [
    "#Function \n",
    "def greet():\n",
    "    print(\"Hello\" + \" Good Morning\")\n",
    "greet()    "
   ]
  },
  {
   "cell_type": "code",
   "execution_count": 69,
   "id": "096eb27d",
   "metadata": {},
   "outputs": [],
   "source": [
    "def rangef(data):\n",
    "    min_val=min(data)\n",
    "    max_val=max(data)\n",
    "    print(min_val,max_val)\n",
    "    print(-min_val+max_val)\n",
    "    "
   ]
  },
  {
   "cell_type": "code",
   "execution_count": 70,
   "id": "0285e0cd",
   "metadata": {},
   "outputs": [
    {
     "name": "stdout",
     "output_type": "stream",
     "text": [
      "0.0 94.5\n",
      "94.5\n"
     ]
    }
   ],
   "source": [
    "rangef(x)"
   ]
  },
  {
   "cell_type": "code",
   "execution_count": 76,
   "id": "7b85e63c",
   "metadata": {},
   "outputs": [
    {
     "name": "stdout",
     "output_type": "stream",
     "text": [
      "38.0\n",
      "55.375\n"
     ]
    }
   ],
   "source": [
    "#Finding the quartiles \n",
    "q1=np.percentile(x,25) #25th percentile\n",
    "q3=np.percentile(x,75)#75 th percentile\n",
    "q2=np.percentile(x,50)\n",
    "print(q1)\n",
    "print(q3)"
   ]
  },
  {
   "cell_type": "code",
   "execution_count": 73,
   "id": "fb9dfde2",
   "metadata": {},
   "outputs": [
    {
     "name": "stdout",
     "output_type": "stream",
     "text": [
      "8.6875\n"
     ]
    }
   ],
   "source": [
    "#Quartile deviation\n",
    "qd=(q3-q1)/2\n",
    "print(qd)"
   ]
  },
  {
   "cell_type": "code",
   "execution_count": 74,
   "id": "8b0dfeab",
   "metadata": {},
   "outputs": [
    {
     "data": {
      "text/plain": [
       "0.18607764390896922"
      ]
     },
     "execution_count": 74,
     "metadata": {},
     "output_type": "execute_result"
    }
   ],
   "source": [
    "#Coefficient of quartile deviation\n",
    "cqd=(q3-q1)/(q3+q1)\n",
    "cqd"
   ]
  },
  {
   "cell_type": "code",
   "execution_count": 77,
   "id": "2ea49bb5",
   "metadata": {},
   "outputs": [
    {
     "data": {
      "text/plain": [
       "0.19424460431654678"
      ]
     },
     "execution_count": 77,
     "metadata": {},
     "output_type": "execute_result"
    }
   ],
   "source": [
    "#Bowley coefficint for skewness\n",
    "bcs=(q1+q3-2*q2)/(q3-q1)\n",
    "bcs"
   ]
  },
  {
   "cell_type": "code",
   "execution_count": 78,
   "id": "f5f1d512",
   "metadata": {},
   "outputs": [
    {
     "data": {
      "text/plain": [
       "262.78147892965876"
      ]
     },
     "execution_count": 78,
     "metadata": {},
     "output_type": "execute_result"
    }
   ],
   "source": [
    "#variance are of twotype 1)formean 2)for population\n",
    "np.var(x) #give population variance"
   ]
  },
  {
   "cell_type": "code",
   "execution_count": 79,
   "id": "29cdd536",
   "metadata": {},
   "outputs": [
    {
     "data": {
      "text/plain": [
       "16.210536046955966"
      ]
     },
     "execution_count": 79,
     "metadata": {},
     "output_type": "execute_result"
    }
   ],
   "source": [
    "#standard deviation\n",
    "np.std(x)\n"
   ]
  },
  {
   "cell_type": "code",
   "execution_count": 81,
   "id": "64ea9649",
   "metadata": {},
   "outputs": [
    {
     "data": {
      "text/plain": [
       "16.31411880088133"
      ]
     },
     "execution_count": 81,
     "metadata": {},
     "output_type": "execute_result"
    }
   ],
   "source": [
    "#finding SD for sample\n",
    "import statistics\n",
    "statistics.stdev(x)  #by default for sample here we can finfd for population also"
   ]
  },
  {
   "cell_type": "code",
   "execution_count": 82,
   "id": "6ccc858e",
   "metadata": {},
   "outputs": [
    {
     "data": {
      "text/plain": [
       "0.10226407464884266"
      ]
     },
     "execution_count": 82,
     "metadata": {},
     "output_type": "execute_result"
    }
   ],
   "source": [
    "#skewness\n",
    "from scipy.stats import skew\n",
    "skew(x)"
   ]
  },
  {
   "cell_type": "code",
   "execution_count": 83,
   "id": "4a9fa4f3",
   "metadata": {},
   "outputs": [
    {
     "data": {
      "text/plain": [
       "<AxesSubplot:>"
      ]
     },
     "execution_count": 83,
     "metadata": {},
     "output_type": "execute_result"
    },
    {
     "data": {
      "image/png": "[encoded data removed]",
      "text/plain": [
       "<Figure size 432x288 with 1 Axes>"
      ]
     },
     "metadata": {
      "needs_background": "light"
     },
     "output_type": "display_data"
    }
   ],
   "source": [
    "x.plot()"
   ]
  },
  {
   "cell_type": "code",
   "execution_count": 84,
   "id": "44dcbb9d",
   "metadata": {},
   "outputs": [
    {
     "data": {
      "image/png": "[encoded data removed]",
      "text/plain": [
       "<Figure size 432x288 with 1 Axes>"
      ]
     },
     "metadata": {
      "needs_background": "light"
     },
     "output_type": "display_data"
    }
   ],
   "source": [
    "#box whishker plot\n",
    "plt.boxplot(x)\n",
    "plt.show()"
   ]
  }
 ],
 "metadata": {
  "kernelspec": {
   "display_name": "Python 3 (ipykernel)",
   "language": "python",
   "name": "python3"
  },
  "language_info": {
   "codemirror_mode": {
    "name": "ipython",
    "version": 3
   },
   "file_extension": ".py",
   "mimetype": "text/x-python",
   "name": "python",
   "nbconvert_exporter": "python",
   "pygments_lexer": "ipython3",
   "version": "3.9.7"
  }
 },
 "nbformat": 4,
 "nbformat_minor": 5
}
